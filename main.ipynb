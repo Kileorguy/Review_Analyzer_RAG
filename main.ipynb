{
 "cells": [
  {
   "cell_type": "code",
   "execution_count": 1,
   "metadata": {},
   "outputs": [],
   "source": [
    "import pandas as pd\n",
    "import tiktoken\n",
    "from langchain.text_splitter import RecursiveCharacterTextSplitter\n",
    "from langchain_openai import OpenAIEmbeddings\n",
    "from langchain_community.vectorstores import Chroma\n",
    "from langchain.prompts import ChatPromptTemplate\n",
    "from langchain.chains import TransformChain\n",
    "from langchain_core.output_parsers import StrOutputParser\n",
    "from langchain_openai import ChatOpenAI\n",
    "from langchain.schema import Document\n",
    "from langchain.load import dumps, loads\n",
    "from langchain.chains.query_constructor.schema import AttributeInfo\n",
    "from langchain.retrievers.self_query.base import SelfQueryRetriever\n",
    "from langchain_core.runnables import RunnablePassthrough\n",
    "\n",
    "from matplotlib import pyplot as plt"
   ]
  },
  {
   "cell_type": "code",
   "execution_count": 2,
   "metadata": {},
   "outputs": [],
   "source": [
    "DATASET_PATH = './Dataset/instagram.csv'\n",
    "K_RETRIEVER_VALUE = 10\n",
    "\n",
    "openai_embedding = OpenAIEmbeddings()\n",
    "\n",
    "llm = ChatOpenAI(temperature=0) \n",
    "\n",
    "query = \"What are the specific features or aspects that users appreciate the most in our application?\"\n",
    "# # query = \"What are the primary reasons users express dissatisfaction with Instagram?\"\n",
    "# # query = \"Can you identify emerging trends or patterns in recent user reviews that may impact our product strategy?"
   ]
  },
  {
   "cell_type": "markdown",
   "metadata": {},
   "source": [
    "### Store to Vector DB"
   ]
  },
  {
   "cell_type": "code",
   "execution_count": 3,
   "metadata": {},
   "outputs": [
    {
     "name": "stdout",
     "output_type": "stream",
     "text": [
      "<class 'pandas.core.frame.DataFrame'>\n",
      "RangeIndex: 10000 entries, 0 to 9999\n",
      "Data columns (total 3 columns):\n",
      " #   Column              Non-Null Count  Dtype \n",
      "---  ------              --------------  ----- \n",
      " 0   review_description  10000 non-null  object\n",
      " 1   rating              10000 non-null  int64 \n",
      " 2   review_date         10000 non-null  object\n",
      "dtypes: int64(1), object(2)\n",
      "memory usage: 234.5+ KB\n"
     ]
    }
   ],
   "source": [
    "df = pd.read_csv(DATASET_PATH)[:10000]\n",
    "dict_data = df.to_dict(orient=\"records\")\n",
    "df.info()"
   ]
  },
  {
   "cell_type": "code",
   "execution_count": 4,
   "metadata": {},
   "outputs": [
    {
     "name": "stdout",
     "output_type": "stream",
     "text": [
      "rating\n",
      "1    5378\n",
      "2    1769\n",
      "3    1379\n",
      "4     811\n",
      "5     663\n",
      "Name: count, dtype: int64\n"
     ]
    }
   ],
   "source": [
    "df.head(3)\n",
    "print(df['rating'].value_counts())"
   ]
  },
  {
   "cell_type": "code",
   "execution_count": 5,
   "metadata": {},
   "outputs": [
    {
     "data": {
      "text/plain": [
       "review_description    0\n",
       "rating                0\n",
       "review_date           0\n",
       "dtype: int64"
      ]
     },
     "metadata": {},
     "output_type": "display_data"
    },
    {
     "data": {
      "text/plain": [
       "0"
      ]
     },
     "execution_count": 5,
     "metadata": {},
     "output_type": "execute_result"
    }
   ],
   "source": [
    "display(df.isna().sum())\n",
    "df.duplicated().sum()"
   ]
  },
  {
   "cell_type": "code",
   "execution_count": 6,
   "metadata": {},
   "outputs": [
    {
     "data": {
      "text/html": [
       "<div>\n",
       "<style scoped>\n",
       "    .dataframe tbody tr th:only-of-type {\n",
       "        vertical-align: middle;\n",
       "    }\n",
       "\n",
       "    .dataframe tbody tr th {\n",
       "        vertical-align: top;\n",
       "    }\n",
       "\n",
       "    .dataframe thead th {\n",
       "        text-align: right;\n",
       "    }\n",
       "</style>\n",
       "<table border=\"1\" class=\"dataframe\">\n",
       "  <thead>\n",
       "    <tr style=\"text-align: right;\">\n",
       "      <th></th>\n",
       "      <th>review_description</th>\n",
       "      <th>rating</th>\n",
       "      <th>review_date</th>\n",
       "    </tr>\n",
       "  </thead>\n",
       "  <tbody>\n",
       "    <tr>\n",
       "      <th>0</th>\n",
       "      <td>The app is good for connecting with friends, f...</td>\n",
       "      <td>3</td>\n",
       "      <td>2023-07-11 23:57:07</td>\n",
       "    </tr>\n",
       "    <tr>\n",
       "      <th>1</th>\n",
       "      <td>Used to be my favorite social media app, but \"...</td>\n",
       "      <td>2</td>\n",
       "      <td>2023-07-22 21:37:09</td>\n",
       "    </tr>\n",
       "    <tr>\n",
       "      <th>2</th>\n",
       "      <td>Instagram is the best of all the social media....</td>\n",
       "      <td>5</td>\n",
       "      <td>2023-07-25 03:24:58</td>\n",
       "    </tr>\n",
       "  </tbody>\n",
       "</table>\n",
       "</div>"
      ],
      "text/plain": [
       "                                  review_description  rating  \\\n",
       "0  The app is good for connecting with friends, f...       3   \n",
       "1  Used to be my favorite social media app, but \"...       2   \n",
       "2  Instagram is the best of all the social media....       5   \n",
       "\n",
       "           review_date  \n",
       "0  2023-07-11 23:57:07  \n",
       "1  2023-07-22 21:37:09  \n",
       "2  2023-07-25 03:24:58  "
      ]
     },
     "metadata": {},
     "output_type": "display_data"
    }
   ],
   "source": [
    "display(df.head(3))"
   ]
  },
  {
   "cell_type": "code",
   "execution_count": 7,
   "metadata": {},
   "outputs": [
    {
     "name": "stdout",
     "output_type": "stream",
     "text": [
      "Highest Token Count : 199\n"
     ]
    },
    {
     "data": {
      "image/png": "[encoded data removed]",
      "text/plain": [
       "<Figure size 640x480 with 1 Axes>"
      ]
     },
     "metadata": {},
     "output_type": "display_data"
    }
   ],
   "source": [
    "data = df['review_description']\n",
    "token_count = []\n",
    "encoding = tiktoken.get_encoding('cl100k_base')\n",
    "max_token = 0\n",
    "for i in data:\n",
    "    num_tokens = len(encoding.encode(i))\n",
    "    if max_token < num_tokens:\n",
    "        max_token = num_tokens\n",
    "    token_count.append(num_tokens)\n",
    "    # print(num_tokens)\n",
    "print(f\"Highest Token Count : {max_token}\")\n",
    "plt.hist(token_count, bins=100, color='cyan', edgecolor='black')\n",
    "plt.title('Token Count Distribution')\n",
    "plt.xlabel('Number of Tokens')\n",
    "plt.ylabel('Frequency')\n",
    "plt.show()"
   ]
  },
  {
   "cell_type": "code",
   "execution_count": 8,
   "metadata": {},
   "outputs": [
    {
     "name": "stdout",
     "output_type": "stream",
     "text": [
      "Splitting...\n",
      "Storing...\n"
     ]
    }
   ],
   "source": [
    "\n",
    "documents = [\n",
    "    Document(\n",
    "        page_content=item[\"review_description\"],\n",
    "        metadata={\"rating\": item[\"rating\"], \"review_date\": item[\"review_date\"]}\n",
    "    )\n",
    "    for item in dict_data\n",
    "]\n",
    "\n",
    "text_splitter = RecursiveCharacterTextSplitter.from_tiktoken_encoder(\n",
    "    chunk_size=120,  \n",
    "    chunk_overlap=10  \n",
    ")\n",
    "\n",
    "print(\"Splitting...\")\n",
    "splits = text_splitter.split_documents(documents)\n",
    "print(\"Storing...\")\n",
    "vector_store = Chroma.from_documents(documents=documents, embedding=openai_embedding)\n",
    "retriever = vector_store.as_retriever(search_kwargs={\"k\": K_RETRIEVER_VALUE})\n"
   ]
  },
  {
   "cell_type": "code",
   "execution_count": 9,
   "metadata": {},
   "outputs": [
    {
     "name": "stdout",
     "output_type": "stream",
     "text": [
      "Question : What are the specific features or aspects that users appreciate the most in our application?\n"
     ]
    },
    {
     "name": "stderr",
     "output_type": "stream",
     "text": [
      "C:\\Users\\Win10\\AppData\\Local\\Temp\\ipykernel_35928\\2263227541.py:3: LangChainDeprecationWarning: The method `BaseRetriever.get_relevant_documents` was deprecated in langchain-core 0.1.46 and will be removed in 1.0. Use :meth:`~invoke` instead.\n",
      "  results = retriever.get_relevant_documents(query)\n"
     ]
    },
    {
     "name": "stdout",
     "output_type": "stream",
     "text": [
      "Review Chunk: Being a recent new user, i am delighted to use this app. Still getting acquainted and understanding it's features. It takes time to fall in love!\n",
      "Metadata: {'rating': 4, 'review_date': '2023-06-18 02:01:00'}\n",
      "\n",
      "Review Chunk: This app is very good to spend time by watching reels, chatting our freinds connecting with many people online and for many other things. I just have a problem that some features of chat aren't available in my device like replying, Themes and other things.. I just want the developers to fix this problem I would be thankful to them. My account name is techno_angshuman.\n",
      "Metadata: {'rating': 4, 'review_date': '2023-06-04 13:23:30'}\n",
      "\n",
      "Review Chunk: This app is very good and has many features But the flaw i feel is that some privacy options in chats and online system is very dull it dosent work propely. Moreover there are not precise options for every thing. Like there should be when to show online status and exact time Beside these there are certain other things needed to be fixed\n",
      "Metadata: {'rating': 4, 'review_date': '2023-04-29 17:46:45'}\n",
      "\n",
      "Review Chunk: It took me a while to discover the joys of using this app. There are many times that I find new features very helpful. It gets better and easier the more I use it. While others may only share technical reviews, mine is a little different but not rare. I found the love of my life here. ♡\n",
      "Metadata: {'rating': 4, 'review_date': '2023-05-19 15:53:48'}\n",
      "\n",
      "Review Chunk: Best app to connect with friends and share our life with others, as well as to know more about current affairs very frequently. However, I am facing problems in theme in chat because it gets change to default immediately by its own. Please look over this my issue and bring out positive output. Thank you.\n",
      "Metadata: {'rating': 4, 'review_date': '2023-07-08 17:10:37'}\n",
      "\n",
      "Review Chunk: I like this app for it being so convenient to use . It's a good tool to promote your page ,your business and to attract attention towards your page.I like how well it's connected with Facebook and syncs our contacts. It's a good experience.\n",
      "Metadata: {'rating': 5, 'review_date': '2023-05-10 03:50:21'}\n",
      "\n",
      "Review Chunk: Such an amazing app, I am totally in love with this, can the team update a version featured like chat lock as similar as what's app it's really in need as a privacy, where people don't have to delete the chats, the memories with the loved ones, I really feel that it is needed for those who love to save the memories but don't want others to see that, please try to update feature like chat locks.. Please I am waiting for your response in positive way\n",
      "Metadata: {'rating': 5, 'review_date': '2023-07-03 16:53:24'}\n",
      "\n",
      "Review Chunk: It's a great app with great experience and interaction with knowledge allover the globe. Keep up the good work. Will tell you where to improve if I get any. Thanks\n",
      "Metadata: {'rating': 5, 'review_date': '2023-07-01 20:50:28'}\n",
      "\n",
      "Review Chunk: This app has amazing features and lot of content can be found on it . I also get updated about some of affiars from Instagram , it's helping alot . I want to make a suggestion to the team that Please bring editing features in comment section beacuse sometime we send massege and there might some errors due to auto correct that make a bad impact in good reputated pages or on posts . So please think on it . I would be really happy if you consider my view.\n",
      "Metadata: {'rating': 4, 'review_date': '2023-06-15 21:21:31'}\n",
      "\n",
      "Review Chunk: Easy to use. It is the one of favourite social media app with more content and not much ads. It has more advantage if we use it in a right manner or else it may lead to disadvantage.\n",
      "Metadata: {'rating': 5, 'review_date': '2023-06-22 14:37:35'}\n",
      "\n"
     ]
    }
   ],
   "source": [
    "print(f\"Question : {query}\")\n",
    "\n",
    "results = retriever.get_relevant_documents(query)\n",
    "for result in results:\n",
    "    print(f\"Review Chunk: {result.page_content}\")\n",
    "    print(f\"Metadata: {result.metadata}\")\n",
    "    print()\n",
    "    # break"
   ]
  },
  {
   "cell_type": "markdown",
   "metadata": {},
   "source": [
    "### Query Translation"
   ]
  },
  {
   "cell_type": "code",
   "execution_count": 10,
   "metadata": {},
   "outputs": [
    {
     "name": "stdout",
     "output_type": "stream",
     "text": [
      "['1. Can you identify the key features or aspects of our application that users find most appealing?', '2. What specific elements of our application do users value the most?', '3. Which features or aspects of our application receive the highest praise from users?', '4. What are the standout features or aspects of our application that users particularly enjoy?', '5. Can you pinpoint the specific aspects of our application that users find most favorable?']\n"
     ]
    }
   ],
   "source": [
    "template = \"\"\"You are an AI language model assistant. Your task is to generate five different versions of the given user question to retrieve relevant documents from a vector database. By generating multiple perspectives on the user question, your goal is to help the user overcome some of the limitations of the distance-based similarity search. Please focus on the clarity of the question and add more details to it. Provide these alternative questions separated by newlines. Original question: {query}\"\"\"\n",
    "prompt_perspectives = ChatPromptTemplate.from_template(template)\n",
    "\n",
    "generate_queries = (\n",
    "    prompt_perspectives \n",
    "    | llm\n",
    "    | StrOutputParser() \n",
    "    | (lambda x: x.split(\"\\n\"))\n",
    ")\n",
    "\n",
    "print(generate_queries.invoke({\"query\":query}))"
   ]
  },
  {
   "cell_type": "markdown",
   "metadata": {},
   "source": [
    "### Get Docs from Vector DB"
   ]
  },
  {
   "cell_type": "code",
   "execution_count": 13,
   "metadata": {},
   "outputs": [],
   "source": [
    "def get_only_unique(documents):\n",
    "    flattened = [dumps(doc) for sublist in documents for doc in sublist]\n",
    "    unique_docs = list(set(flattened))\n",
    "    return [loads(doc) for doc in unique_docs]\n",
    "\n",
    "def process_multiple_queries(inputs):\n",
    "    # print(type(inputs))\n",
    "    # print(inputs)\n",
    "    queries = inputs[\"query\"]\n",
    "    retrieval_results = [retriever.get_relevant_documents(query) for query in queries]\n",
    "    # print(retrieval_results)\n",
    "    unique_docs = get_only_unique(retrieval_results)\n",
    "    \n",
    "    return {\"documents\": unique_docs}"
   ]
  },
  {
   "cell_type": "markdown",
   "metadata": {},
   "source": [
    "### Retrieval"
   ]
  },
  {
   "cell_type": "code",
   "execution_count": 15,
   "metadata": {},
   "outputs": [
    {
     "name": "stdout",
     "output_type": "stream",
     "text": [
      "{'query': ['1. Can you identify the key features or aspects of our application that users find most appealing?', '2. What specific elements of our application do users value the most?', '3. Which features or aspects of our application receive the highest praise from users?', '4. What are the standout features or aspects of our application that users particularly enjoy?', '5. Can you pinpoint the specific aspects of our application that users find most favorable?'], 'documents': [Document(metadata={'rating': 5, 'review_date': '2023-06-17 01:09:05'}, page_content=\"Great app, my rating used to be 5/5, but the inability to change settings within the app has become frustrating as it relies on your phone's settings unlike literally every other app ever.\"), Document(metadata={'rating': 5, 'review_date': '2023-06-23 17:54:12'}, page_content=\"Smooth & easy to navigate. You can always discover exciting, interesting, and current events. Oftentimes, this app keeps abreast of events I'm otherwise not aware of.\"), Document(metadata={'rating': 2, 'review_date': '2023-07-18 08:23:11'}, page_content=\"It's a pretty nice app to share your thoughts with other people and connect with like minded ones. but one thing that I will request instagram and think that it can make its usage even better is a post privacy feature as facebook tbh I think this is the only reason why people have to create second account they won't need to if you introduce this to them and it will gave your users a better user experience\"), Document(metadata={'rating': 4, 'review_date': '2023-05-26 15:42:03'}, page_content=\"Instagram is by far the most enjoyed platform but giving small messages every now and then on how to make your page better. Maybe a score rating for personal growth so it's more gameified\"), Document(metadata={'rating': 4, 'review_date': '2023-05-25 08:40:49'}, page_content='I have encountered a lots of bugs. And some features of this app is not available for me. Otherwise its a good app for maintaining a contact with the users.'), Document(metadata={'rating': 4, 'review_date': '2023-05-17 14:43:29'}, page_content='4.5 stars. The app is pretty great, and I love how it is constantly updated to make the experience better. But the amount of adds can be a lot, and content can be extremely recurring.'), Document(metadata={'rating': 5, 'review_date': '2023-06-14 23:04:06'}, page_content=\"Honestly, this app is my favorite it doesn't have any complications unless they get shut down. And it's a nice app it's most definitely my #1 used app on my phone ever.\"), Document(metadata={'rating': 2, 'review_date': '2023-05-20 17:47:42'}, page_content='Its features are really very excellent and wonderful. What I like most in this app is to connecting to new friends and social events. I like most that to follow our idols and inspirative personality and knowing thier day to day life by seeing stories , reels and etc. Features . But there is one problem that they use to extend notification pause from 8 hours to 10 - 12 hours. But this app is bravo !!!'), Document(metadata={'rating': 3, 'review_date': '2023-05-08 06:46:47'}, page_content=\"Overall its a great app, however I would like to have these features 1) The story length should be 30 Sec minimum 2) The users must be able to see a list of people who doesn't follow back as there are many third party apps available where people login and check the same - but it has a risk of security breach.\"), Document(metadata={'rating': 4, 'review_date': '2023-05-18 11:30:38'}, page_content=\"Instagram is a captivating social media platform that emphasizes visual content. The app's sleek and user-friendly interface makes it easy to browse and share photos and videos. The diverse range of filters and editing tools enhances creativity. Features like Stories and Explore keep users engaged. While occasional performance issues may occur, Instagram remains a popular choice for visual storytelling and connecting with others. Four stars for this visually appealing social media platform.\"), Document(metadata={'rating': 3, 'review_date': '2023-07-07 05:50:05'}, page_content='Great app to use for keeping In touch with friends only I wish it wasnt so buggy. If 3.5 was an option i would most definitely choose it.'), Document(metadata={'rating': 4, 'review_date': '2023-05-15 15:00:43'}, page_content=\"Sometimes there are a few bugs when they update things, but for the most part this is my favorite apps to use for posting things because it's easy to use, its versatile, and because it has many features I like.\"), Document(metadata={'rating': 5, 'review_date': '2023-05-22 08:56:59'}, page_content='Pretty decent app to reach out to people. If you have something to share, this app lets you do it in the best way possible. Almost like, putting your best face on display.'), Document(metadata={'rating': 5, 'review_date': '2023-07-08 07:46:05'}, page_content='First of all the experience and how easy to use the app is,is delightful.One time I reported a problem with the app and they solved it for me in-between 3 days.I am very happy and I definitely recommend.'), Document(metadata={'rating': 5, 'review_date': '2023-05-20 01:51:59'}, page_content=\"Instagram's user-friendly interface deserves commendation. Navigating through the app is a breeze, thanks to its intuitive design. The home feed presents a seamless stream of posts from the accounts you follow, ensuring you never miss out on updates from your favorite influencers, friends, or brands. The explore page is a treasure trove of discovery, intelligently curating content based on your interests and preferences.\"), Document(metadata={'rating': 4, 'review_date': '2023-04-29 17:46:45'}, page_content='This app is very good and has many features But the flaw i feel is that some privacy options in chats and online system is very dull it dosent work propely. Moreover there are not precise options for every thing. Like there should be when to show online status and exact time Beside these there are certain other things needed to be fixed'), Document(metadata={'rating': 5, 'review_date': '2023-07-19 00:08:28'}, page_content=\"I love using the Instagram app to share photos and videos with my friends and followers. It's so easy to snap a picture, add some filters and a caption, and post it for everyone to see. I also enjoy following other users and seeing their content, which gives me inspiration for my own posts. The app has so many features that make it fun to use, like stickers, stories, and reels.\"), Document(metadata={'rating': 3, 'review_date': '2023-06-16 18:38:19'}, page_content=\"It's an app with a lot of potential to be great, but is buggy and needs more attention from its developers. The right fixes and enhancements would bring my rating from 3 to 5 stars!\"), Document(metadata={'rating': 4, 'review_date': '2023-06-28 07:51:14'}, page_content=\"Interface could be better, especially UX. It's hard sometimes to find some feature\"), Document(metadata={'rating': 4, 'review_date': '2023-05-13 19:40:40'}, page_content=\"I really enjoy using the Instagram app, it's a great way to stay connected with friends and family, as well as discover new content and creators. The interface is user-friendly and intuitive, making it easy to navigate and explore. However, I do think there's room for improvement in terms of algorithmic fairness and user privacy. Overall, I would highly recommend this app to anyone looking for a fun and engaging social media experience.\"), Document(metadata={'rating': 5, 'review_date': '2023-07-16 15:06:31'}, page_content=\"I don't understand how most of the reviews were 1 to 3 stars. It is one of my favorite application. You can post, story and also message someone if you like. It also has a lot of aesthetic features which I like the most. Also loving how you can hide like counts, and also choose audience for your stories. I'm obsessed with it. I have 3 accounts, 1 main, 1 dump and 1 for aesthetic photography. It's just the best.\"), Document(metadata={'rating': 5, 'review_date': '2023-07-13 11:07:40'}, page_content='This app is awesome. I love the quality of its graphics. It has become a great tool through which I share my content to the world.'), Document(metadata={'rating': 3, 'review_date': '2023-07-14 04:17:53'}, page_content=\"Ok, so Instagram is an average app with multiple entertainment features. I would like to give a little feedback- as we post story, can there be an option how much time somebody is spending on your stories to get more satisfying engagement, which will also provide with a better algorithm and audience. Other than this, I don't think I am facing any issues.. currently.. Thankyou :)\"), Document(metadata={'rating': 5, 'review_date': '2023-05-10 03:50:21'}, page_content=\"I like this app for it being so convenient to use . It's a good tool to promote your page ,your business and to attract attention towards your page.I like how well it's connected with Facebook and syncs our contacts. It's a good experience.\"), Document(metadata={'rating': 5, 'review_date': '2023-06-22 14:37:35'}, page_content='Easy to use. It is the one of favourite social media app with more content and not much ads. It has more advantage if we use it in a right manner or else it may lead to disadvantage.'), Document(metadata={'rating': 3, 'review_date': '2023-05-30 07:37:03'}, page_content='I believe the Ux has improved for some and lowered for others access to social media seem now a presentation letter for ones identify or idea . However , seems a bit exclusive to the experience some may have . Overall great app for creation and expression , authenticity could be perceived as \" commercialized\" Great design .'), Document(metadata={'rating': 4, 'review_date': '2023-06-18 02:01:00'}, page_content=\"Being a recent new user, i am delighted to use this app. Still getting acquainted and understanding it's features. It takes time to fall in love!\"), Document(metadata={'rating': 5, 'review_date': '2023-05-16 14:55:13'}, page_content='Best way to interact with the world, fun entertainment, knowledge gaining everything on a single platform. Easy to use.')]}\n"
     ]
    },
    {
     "name": "stderr",
     "output_type": "stream",
     "text": [
      "C:\\Users\\Win10\\AppData\\Local\\Temp\\ipykernel_35928\\2003444613.py:4: LangChainBetaWarning: The function `loads` is in beta. It is actively being worked on, so the API may change.\n",
      "  return [loads(doc) for doc in unique_docs]\n"
     ]
    }
   ],
   "source": [
    "retrieval_chain = TransformChain(\n",
    "    input_variables=[\"query\"],  \n",
    "    output_variables=[\"documents\"],  \n",
    "    transform=process_multiple_queries \n",
    ")\n",
    "queries = generate_queries.invoke({\"query\":query})\n",
    "docs = retrieval_chain.invoke({\"query\": queries})\n",
    "print(docs)\n"
   ]
  },
  {
   "cell_type": "code",
   "execution_count": 16,
   "metadata": {},
   "outputs": [
    {
     "name": "stdout",
     "output_type": "stream",
     "text": [
      "28\n",
      "page_content='Great app, my rating used to be 5/5, but the inability to change settings within the app has become frustrating as it relies on your phone's settings unlike literally every other app ever.' metadata={'rating': 5, 'review_date': '2023-06-17 01:09:05'}\n",
      "page_content='Smooth & easy to navigate. You can always discover exciting, interesting, and current events. Oftentimes, this app keeps abreast of events I'm otherwise not aware of.' metadata={'rating': 5, 'review_date': '2023-06-23 17:54:12'}\n",
      "page_content='It's a pretty nice app to share your thoughts with other people and connect with like minded ones. but one thing that I will request instagram and think that it can make its usage even better is a post privacy feature as facebook tbh I think this is the only reason why people have to create second account they won't need to if you introduce this to them and it will gave your users a better user experience' metadata={'rating': 2, 'review_date': '2023-07-18 08:23:11'}\n",
      "page_content='Instagram is by far the most enjoyed platform but giving small messages every now and then on how to make your page better. Maybe a score rating for personal growth so it's more gameified' metadata={'rating': 4, 'review_date': '2023-05-26 15:42:03'}\n",
      "page_content='I have encountered a lots of bugs. And some features of this app is not available for me. Otherwise its a good app for maintaining a contact with the users.' metadata={'rating': 4, 'review_date': '2023-05-25 08:40:49'}\n",
      "page_content='4.5 stars. The app is pretty great, and I love how it is constantly updated to make the experience better. But the amount of adds can be a lot, and content can be extremely recurring.' metadata={'rating': 4, 'review_date': '2023-05-17 14:43:29'}\n",
      "page_content='Honestly, this app is my favorite it doesn't have any complications unless they get shut down. And it's a nice app it's most definitely my #1 used app on my phone ever.' metadata={'rating': 5, 'review_date': '2023-06-14 23:04:06'}\n",
      "page_content='Its features are really very excellent and wonderful. What I like most in this app is to connecting to new friends and social events. I like most that to follow our idols and inspirative personality and knowing thier day to day life by seeing stories , reels and etc. Features . But there is one problem that they use to extend notification pause from 8 hours to 10 - 12 hours. But this app is bravo !!!' metadata={'rating': 2, 'review_date': '2023-05-20 17:47:42'}\n",
      "page_content='Overall its a great app, however I would like to have these features 1) The story length should be 30 Sec minimum 2) The users must be able to see a list of people who doesn't follow back as there are many third party apps available where people login and check the same - but it has a risk of security breach.' metadata={'rating': 3, 'review_date': '2023-05-08 06:46:47'}\n",
      "page_content='Instagram is a captivating social media platform that emphasizes visual content. The app's sleek and user-friendly interface makes it easy to browse and share photos and videos. The diverse range of filters and editing tools enhances creativity. Features like Stories and Explore keep users engaged. While occasional performance issues may occur, Instagram remains a popular choice for visual storytelling and connecting with others. Four stars for this visually appealing social media platform.' metadata={'rating': 4, 'review_date': '2023-05-18 11:30:38'}\n",
      "page_content='Great app to use for keeping In touch with friends only I wish it wasnt so buggy. If 3.5 was an option i would most definitely choose it.' metadata={'rating': 3, 'review_date': '2023-07-07 05:50:05'}\n",
      "page_content='Sometimes there are a few bugs when they update things, but for the most part this is my favorite apps to use for posting things because it's easy to use, its versatile, and because it has many features I like.' metadata={'rating': 4, 'review_date': '2023-05-15 15:00:43'}\n",
      "page_content='Pretty decent app to reach out to people. If you have something to share, this app lets you do it in the best way possible. Almost like, putting your best face on display.' metadata={'rating': 5, 'review_date': '2023-05-22 08:56:59'}\n",
      "page_content='First of all the experience and how easy to use the app is,is delightful.One time I reported a problem with the app and they solved it for me in-between 3 days.I am very happy and I definitely recommend.' metadata={'rating': 5, 'review_date': '2023-07-08 07:46:05'}\n",
      "page_content='Instagram's user-friendly interface deserves commendation. Navigating through the app is a breeze, thanks to its intuitive design. The home feed presents a seamless stream of posts from the accounts you follow, ensuring you never miss out on updates from your favorite influencers, friends, or brands. The explore page is a treasure trove of discovery, intelligently curating content based on your interests and preferences.' metadata={'rating': 5, 'review_date': '2023-05-20 01:51:59'}\n",
      "page_content='This app is very good and has many features But the flaw i feel is that some privacy options in chats and online system is very dull it dosent work propely. Moreover there are not precise options for every thing. Like there should be when to show online status and exact time Beside these there are certain other things needed to be fixed' metadata={'rating': 4, 'review_date': '2023-04-29 17:46:45'}\n",
      "page_content='I love using the Instagram app to share photos and videos with my friends and followers. It's so easy to snap a picture, add some filters and a caption, and post it for everyone to see. I also enjoy following other users and seeing their content, which gives me inspiration for my own posts. The app has so many features that make it fun to use, like stickers, stories, and reels.' metadata={'rating': 5, 'review_date': '2023-07-19 00:08:28'}\n",
      "page_content='It's an app with a lot of potential to be great, but is buggy and needs more attention from its developers. The right fixes and enhancements would bring my rating from 3 to 5 stars!' metadata={'rating': 3, 'review_date': '2023-06-16 18:38:19'}\n",
      "page_content='Interface could be better, especially UX. It's hard sometimes to find some feature' metadata={'rating': 4, 'review_date': '2023-06-28 07:51:14'}\n",
      "page_content='I really enjoy using the Instagram app, it's a great way to stay connected with friends and family, as well as discover new content and creators. The interface is user-friendly and intuitive, making it easy to navigate and explore. However, I do think there's room for improvement in terms of algorithmic fairness and user privacy. Overall, I would highly recommend this app to anyone looking for a fun and engaging social media experience.' metadata={'rating': 4, 'review_date': '2023-05-13 19:40:40'}\n",
      "page_content='I don't understand how most of the reviews were 1 to 3 stars. It is one of my favorite application. You can post, story and also message someone if you like. It also has a lot of aesthetic features which I like the most. Also loving how you can hide like counts, and also choose audience for your stories. I'm obsessed with it. I have 3 accounts, 1 main, 1 dump and 1 for aesthetic photography. It's just the best.' metadata={'rating': 5, 'review_date': '2023-07-16 15:06:31'}\n",
      "page_content='This app is awesome. I love the quality of its graphics. It has become a great tool through which I share my content to the world.' metadata={'rating': 5, 'review_date': '2023-07-13 11:07:40'}\n",
      "page_content='Ok, so Instagram is an average app with multiple entertainment features. I would like to give a little feedback- as we post story, can there be an option how much time somebody is spending on your stories to get more satisfying engagement, which will also provide with a better algorithm and audience. Other than this, I don't think I am facing any issues.. currently.. Thankyou :)' metadata={'rating': 3, 'review_date': '2023-07-14 04:17:53'}\n",
      "page_content='I like this app for it being so convenient to use . It's a good tool to promote your page ,your business and to attract attention towards your page.I like how well it's connected with Facebook and syncs our contacts. It's a good experience.' metadata={'rating': 5, 'review_date': '2023-05-10 03:50:21'}\n",
      "page_content='Easy to use. It is the one of favourite social media app with more content and not much ads. It has more advantage if we use it in a right manner or else it may lead to disadvantage.' metadata={'rating': 5, 'review_date': '2023-06-22 14:37:35'}\n",
      "page_content='I believe the Ux has improved for some and lowered for others access to social media seem now a presentation letter for ones identify or idea . However , seems a bit exclusive to the experience some may have . Overall great app for creation and expression , authenticity could be perceived as \" commercialized\" Great design .' metadata={'rating': 3, 'review_date': '2023-05-30 07:37:03'}\n",
      "page_content='Being a recent new user, i am delighted to use this app. Still getting acquainted and understanding it's features. It takes time to fall in love!' metadata={'rating': 4, 'review_date': '2023-06-18 02:01:00'}\n",
      "page_content='Best way to interact with the world, fun entertainment, knowledge gaining everything on a single platform. Easy to use.' metadata={'rating': 5, 'review_date': '2023-05-16 14:55:13'}\n"
     ]
    }
   ],
   "source": [
    "test = docs['documents']\n",
    "print(len(test))\n",
    "for i in test:\n",
    "    print(i)"
   ]
  },
  {
   "cell_type": "markdown",
   "metadata": {},
   "source": [
    "### Generation"
   ]
  },
  {
   "cell_type": "code",
   "execution_count": 17,
   "metadata": {},
   "outputs": [
    {
     "data": {
      "text/plain": [
       "\"Based on the reviews provided, users appreciate several specific features and aspects of the Instagram application:\\n\\n1. User-Friendly Interface: Users find the interface of Instagram to be intuitive, easy to navigate, and visually appealing. They appreciate the seamless stream of posts on the home feed, ensuring they stay updated on content from accounts they follow.\\n\\n2. Content Discovery: Users enjoy the Explore page, which intelligently curates content based on their interests and preferences. This feature helps users discover new and engaging content on the platform.\\n\\n3. Creative Tools: Users appreciate the diverse range of filters and editing tools available on Instagram, which enhance their creativity when sharing photos and videos. Features like Stories and Reels also contribute to the creative expression of users.\\n\\n4. Connectivity and Social Interaction: Users value the ability to connect with friends, family, and like-minded individuals on Instagram. They enjoy sharing thoughts, following idols, and staying connected to social events through the platform.\\n\\n5. Engagement Features: Users like the interactive features on Instagram, such as stickers, stories, and reels, that make the app fun to use and engage with. They also appreciate the option to hide like counts and choose the audience for their stories.\\n\\n6. Convenience and Promotion: Users find Instagram convenient to use for promoting their pages, businesses, and attracting attention. The app's integration with Facebook and contact syncing adds to the overall user experience.\\n\\nOverall, users appreciate Instagram for its user-friendly design, content discovery capabilities, creative tools, social connectivity, engagement features, and convenience for promotion. These aspects contribute to a positive user experience and make Instagram a popular choice for visual storytelling and social interaction.\""
      ]
     },
     "execution_count": 17,
     "metadata": {},
     "output_type": "execute_result"
    }
   ],
   "source": [
    "template = \"\"\"You are an AI assistant for question-answering tasks. Use the following pieces of retrieved context and information to answer the question. If you don't know the answer, say that you don't know. If the data is not relevant to the question, don't use the data. Make sure to give a detailed answer. Context: {context} Question: {query}\"\"\"\n",
    "prompt = ChatPromptTemplate.from_template(template)\n",
    "\n",
    "generation_chain = (\n",
    "    {\"context\": RunnablePassthrough(), \"query\": RunnablePassthrough()}\n",
    "    | prompt\n",
    "    | llm\n",
    "    | StrOutputParser()\n",
    ")\n",
    "\n",
    "# print(generation_chain)\n",
    "generation_chain.invoke({\"query\": query, \"context\":docs['documents']})\n"
   ]
  }
 ],
 "metadata": {
  "kernelspec": {
   "display_name": "deep_learning",
   "language": "python",
   "name": "python3"
  },
  "language_info": {
   "codemirror_mode": {
    "name": "ipython",
    "version": 3
   },
   "file_extension": ".py",
   "mimetype": "text/x-python",
   "name": "python",
   "nbconvert_exporter": "python",
   "pygments_lexer": "ipython3",
   "version": "3.10.15"
  }
 },
 "nbformat": 4,
 "nbformat_minor": 2
}
